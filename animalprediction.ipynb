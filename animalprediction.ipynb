{
  "nbformat": 4,
  "nbformat_minor": 0,
  "metadata": {
    "colab": {
      "provenance": [],
      "authorship_tag": "ABX9TyPkQqpsIyf4NoiC+ZBQjHUO",
      "include_colab_link": true
    },
    "kernelspec": {
      "name": "python3",
      "display_name": "Python 3"
    },
    "language_info": {
      "name": "python"
    }
  },
  "cells": [
    {
      "cell_type": "markdown",
      "metadata": {
        "id": "view-in-github",
        "colab_type": "text"
      },
      "source": [
        "<a href=\"https://colab.research.google.com/github/JIGEESHA-ANAGANI/Animal-Health-Prediction/blob/main/animalprediction.ipynb\" target=\"_parent\"><img src=\"https://colab.research.google.com/assets/colab-badge.svg\" alt=\"Open In Colab\"/></a>"
      ]
    },
    {
      "cell_type": "code",
      "execution_count": 3,
      "metadata": {
        "colab": {
          "base_uri": "https://localhost:8080/"
        },
        "id": "ZUNSwuDj0f1O",
        "outputId": "2c184f19-5e51-4199-bb53-b5ad67b4c9cb"
      },
      "outputs": [
        {
          "output_type": "stream",
          "name": "stderr",
          "text": [
            "<ipython-input-3-3db5057aee78>:12: FutureWarning: DataFrame.fillna with 'method' is deprecated and will raise in a future version. Use obj.ffill() or obj.bfill() instead.\n",
            "  data.fillna(method='ffill', inplace=True)\n"
          ]
        },
        {
          "output_type": "stream",
          "name": "stdout",
          "text": [
            "Accuracy: 0.9885714285714285\n",
            "Classification Report:\n",
            "               precision    recall  f1-score   support\n",
            "\n",
            "           0       0.00      0.00      0.00         2\n",
            "           1       0.99      1.00      0.99       173\n",
            "\n",
            "    accuracy                           0.99       175\n",
            "   macro avg       0.49      0.50      0.50       175\n",
            "weighted avg       0.98      0.99      0.98       175\n",
            "\n",
            "Model saved as 'random_forest_model.joblib'\n"
          ]
        },
        {
          "output_type": "stream",
          "name": "stderr",
          "text": [
            "/usr/local/lib/python3.11/dist-packages/sklearn/metrics/_classification.py:1565: UndefinedMetricWarning: Precision is ill-defined and being set to 0.0 in labels with no predicted samples. Use `zero_division` parameter to control this behavior.\n",
            "  _warn_prf(average, modifier, f\"{metric.capitalize()} is\", len(result))\n",
            "/usr/local/lib/python3.11/dist-packages/sklearn/metrics/_classification.py:1565: UndefinedMetricWarning: Precision is ill-defined and being set to 0.0 in labels with no predicted samples. Use `zero_division` parameter to control this behavior.\n",
            "  _warn_prf(average, modifier, f\"{metric.capitalize()} is\", len(result))\n",
            "/usr/local/lib/python3.11/dist-packages/sklearn/metrics/_classification.py:1565: UndefinedMetricWarning: Precision is ill-defined and being set to 0.0 in labels with no predicted samples. Use `zero_division` parameter to control this behavior.\n",
            "  _warn_prf(average, modifier, f\"{metric.capitalize()} is\", len(result))\n"
          ]
        }
      ],
      "source": [
        "import pandas as pd\n",
        "from sklearn.model_selection import train_test_split\n",
        "from sklearn.ensemble import RandomForestClassifier\n",
        "from sklearn.preprocessing import LabelEncoder, OneHotEncoder\n",
        "from joblib import dump\n",
        "import pickle\n",
        "\n",
        "# Load the dataset\n",
        "data = pd.read_csv('data.csv')\n",
        "\n",
        "# Handle missing values (if any)\n",
        "data.fillna(method='ffill', inplace=True)\n",
        "\n",
        "\n",
        "# Convert the target variable 'Dangerous' to numerical format\n",
        "le = LabelEncoder()\n",
        "data['Dangerous'] = le.fit_transform(data['Dangerous'])\n",
        "\n",
        "# One-hot encode categorical symptom columns\n",
        "encoder = OneHotEncoder(sparse_output=False)\n",
        "categorical_data = data[['AnimalName', 'symptoms1', 'symptoms2', 'symptoms3', 'symptoms4', 'symptoms5']]\n",
        "encoded_features = encoder.fit_transform(categorical_data)\n",
        "\n",
        "# Save the encoder to a joblib file\n",
        "with open('onehot_encoder.pkl', 'wb') as file:\n",
        "    pickle.dump(encoder, file)\n",
        "\n",
        "# Create a DataFrame with the encoded features\n",
        "encoded_df = pd.DataFrame(encoded_features, columns=encoder.get_feature_names_out())\n",
        "\n",
        "# Combine the encoded DataFrame with the target variable\n",
        "data_encoded = pd.concat([encoded_df, data[['Dangerous']]], axis=1)\n",
        "\n",
        "# Split the dataset into training and testing sets\n",
        "X = data_encoded.drop('Dangerous', axis=1)  # Features\n",
        "y = data_encoded['Dangerous']  # Target variable\n",
        "\n",
        "X_train, X_test, y_train, y_test = train_test_split(X, y, test_size=0.2, random_state=42)\n",
        "# Train the Random Forest Classifier\n",
        "model = RandomForestClassifier(n_estimators=100, random_state=42)\n",
        "model.fit(X_train, y_train)\n",
        "\n",
        "# Evaluate the model\n",
        "y_pred = model.predict(X_test)\n",
        "from sklearn.metrics import accuracy_score, classification_report\n",
        "print(\"Accuracy:\", accuracy_score(y_test, y_pred))\n",
        "print(\"Classification Report:\\n\", classification_report(y_test, y_pred))\n",
        "\n",
        "# Save the trained model to a joblib file\n",
        "dump(model, 'random_forest_model.joblib')\n",
        "\n",
        "print(\"Model saved as 'random_forest_model.joblib'\")"
      ]
    }
  ]
}